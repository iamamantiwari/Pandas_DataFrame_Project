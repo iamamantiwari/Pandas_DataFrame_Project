{
 "cells": [
  {
   "cell_type": "code",
   "execution_count": 1,
   "id": "df055f56",
   "metadata": {},
   "outputs": [],
   "source": [
    "import pandas as pd"
   ]
  },
  {
   "cell_type": "code",
   "execution_count": 2,
   "id": "7d3afb07",
   "metadata": {},
   "outputs": [],
   "source": [
    "df=pd.read_csv('dataset/mlbsalaries.csv') #Major league Abseball Salaries"
   ]
  },
  {
   "cell_type": "code",
   "execution_count": 3,
   "id": "6c93f668",
   "metadata": {},
   "outputs": [
    {
     "data": {
      "text/html": [
       "<div>\n",
       "<style scoped>\n",
       "    .dataframe tbody tr th:only-of-type {\n",
       "        vertical-align: middle;\n",
       "    }\n",
       "\n",
       "    .dataframe tbody tr th {\n",
       "        vertical-align: top;\n",
       "    }\n",
       "\n",
       "    .dataframe thead th {\n",
       "        text-align: right;\n",
       "    }\n",
       "</style>\n",
       "<table border=\"1\" class=\"dataframe\">\n",
       "  <thead>\n",
       "    <tr style=\"text-align: right;\">\n",
       "      <th></th>\n",
       "      <th>Year</th>\n",
       "      <th>Player</th>\n",
       "      <th>Salary</th>\n",
       "      <th>Position</th>\n",
       "      <th>Team</th>\n",
       "    </tr>\n",
       "  </thead>\n",
       "  <tbody>\n",
       "    <tr>\n",
       "      <th>0</th>\n",
       "      <td>1988</td>\n",
       "      <td>Mike Witt</td>\n",
       "      <td>1400000</td>\n",
       "      <td>Pitcher</td>\n",
       "      <td>Los Angeles Angels</td>\n",
       "    </tr>\n",
       "    <tr>\n",
       "      <th>1</th>\n",
       "      <td>1988</td>\n",
       "      <td>George Hendrick</td>\n",
       "      <td>989333</td>\n",
       "      <td>Outfielder</td>\n",
       "      <td>Los Angeles Angels</td>\n",
       "    </tr>\n",
       "    <tr>\n",
       "      <th>2</th>\n",
       "      <td>1988</td>\n",
       "      <td>Chili Davis</td>\n",
       "      <td>950000</td>\n",
       "      <td>Outfielder</td>\n",
       "      <td>Los Angeles Angels</td>\n",
       "    </tr>\n",
       "    <tr>\n",
       "      <th>3</th>\n",
       "      <td>1988</td>\n",
       "      <td>Brian Downing</td>\n",
       "      <td>900000</td>\n",
       "      <td>Designated Hitter</td>\n",
       "      <td>Los Angeles Angels</td>\n",
       "    </tr>\n",
       "    <tr>\n",
       "      <th>4</th>\n",
       "      <td>1988</td>\n",
       "      <td>Bob Boone</td>\n",
       "      <td>883000</td>\n",
       "      <td>Catcher</td>\n",
       "      <td>Los Angeles Angels</td>\n",
       "    </tr>\n",
       "  </tbody>\n",
       "</table>\n",
       "</div>"
      ],
      "text/plain": [
       "   Year           Player   Salary           Position                Team\n",
       "0  1988        Mike Witt  1400000            Pitcher  Los Angeles Angels\n",
       "1  1988  George Hendrick   989333         Outfielder  Los Angeles Angels\n",
       "2  1988      Chili Davis   950000         Outfielder  Los Angeles Angels\n",
       "3  1988    Brian Downing   900000  Designated Hitter  Los Angeles Angels\n",
       "4  1988        Bob Boone   883000            Catcher  Los Angeles Angels"
      ]
     },
     "execution_count": 3,
     "metadata": {},
     "output_type": "execute_result"
    }
   ],
   "source": [
    "df.head()"
   ]
  },
  {
   "cell_type": "code",
   "execution_count": 4,
   "id": "bbc85005",
   "metadata": {},
   "outputs": [
    {
     "data": {
      "text/plain": [
       "(19543, 5)"
      ]
     },
     "execution_count": 4,
     "metadata": {},
     "output_type": "execute_result"
    }
   ],
   "source": [
    "df.shape"
   ]
  },
  {
   "cell_type": "code",
   "execution_count": 5,
   "id": "bb2b7344",
   "metadata": {},
   "outputs": [
    {
     "data": {
      "text/plain": [
       "1990    972\n",
       "1999    919\n",
       "2008    858\n",
       "2001    857\n",
       "2002    849\n",
       "2007    848\n",
       "1998    846\n",
       "2000    843\n",
       "2011    843\n",
       "2004    833\n",
       "2005    831\n",
       "2010    828\n",
       "2003    826\n",
       "2006    823\n",
       "2009    818\n",
       "1995    805\n",
       "1993    786\n",
       "1997    773\n",
       "1996    768\n",
       "1992    753\n",
       "1994    748\n",
       "1991    720\n",
       "1989    710\n",
       "1988    686\n",
       "Name: Year, dtype: int64"
      ]
     },
     "execution_count": 5,
     "metadata": {},
     "output_type": "execute_result"
    }
   ],
   "source": [
    "df.Year.value_counts() #Find year wise total count"
   ]
  },
  {
   "cell_type": "code",
   "execution_count": 6,
   "id": "6598a9b6",
   "metadata": {},
   "outputs": [
    {
     "data": {
      "text/plain": [
       "Texas Rangers            711\n",
       "Los Angeles Dodgers      698\n",
       "Los Angeles Angels       695\n",
       "Philadelphia Phillies    695\n",
       "St. Louis Cardinals      693\n",
       "Cleveland Indians        693\n",
       "Boston Red Sox           692\n",
       "Milwaukee Brewers        690\n",
       "Washington Nationals     687\n",
       "New York Yankees         685\n",
       "Seattle Mariners         684\n",
       "Baltimore Orioles        684\n",
       "Atlanta Braves           683\n",
       "Toronto Blue Jays        683\n",
       "Cincinnati Reds          681\n",
       "San Francisco Giants     678\n",
       "New York Mets            676\n",
       "Detroit Tigers           676\n",
       "Kansas City Royals       674\n",
       "Oakland Athletics        674\n",
       "San Diego Padres         673\n",
       "Pittsburgh Pirates       669\n",
       "Chicago Cubs             663\n",
       "Houston Astros           660\n",
       "Minnesota Twins          650\n",
       "Chicago White Sox        648\n",
       "Florida Marlins          533\n",
       "Colorado Rockies         528\n",
       "Tampa Bay Rays           398\n",
       "Arizona Diamondbacks     389\n",
       "Name: Team, dtype: int64"
      ]
     },
     "execution_count": 6,
     "metadata": {},
     "output_type": "execute_result"
    }
   ],
   "source": [
    "df.Team.value_counts()"
   ]
  },
  {
   "cell_type": "code",
   "execution_count": 7,
   "id": "ce56023a",
   "metadata": {},
   "outputs": [
    {
     "data": {
      "text/plain": [
       "Pitcher              9160\n",
       "Outfielder           3785\n",
       "Catcher              1664\n",
       "Shortstop            1331\n",
       "Second Baseman       1216\n",
       "Third Baseman        1139\n",
       "First Baseman        1118\n",
       "Designated Hitter     109\n",
       "Infielder              21\n",
       "Name: Position, dtype: int64"
      ]
     },
     "execution_count": 7,
     "metadata": {},
     "output_type": "execute_result"
    }
   ],
   "source": [
    "df.Position.value_counts()"
   ]
  },
  {
   "cell_type": "code",
   "execution_count": 8,
   "id": "3fab73ae",
   "metadata": {},
   "outputs": [],
   "source": [
    "# Retrieve information for year 2010"
   ]
  },
  {
   "cell_type": "code",
   "execution_count": 10,
   "id": "3a0d4626",
   "metadata": {},
   "outputs": [],
   "source": [
    "year_2010=df[df.Year==2010]"
   ]
  },
  {
   "cell_type": "code",
   "execution_count": 11,
   "id": "03acd16f",
   "metadata": {},
   "outputs": [
    {
     "data": {
      "text/html": [
       "<div>\n",
       "<style scoped>\n",
       "    .dataframe tbody tr th:only-of-type {\n",
       "        vertical-align: middle;\n",
       "    }\n",
       "\n",
       "    .dataframe tbody tr th {\n",
       "        vertical-align: top;\n",
       "    }\n",
       "\n",
       "    .dataframe thead th {\n",
       "        text-align: right;\n",
       "    }\n",
       "</style>\n",
       "<table border=\"1\" class=\"dataframe\">\n",
       "  <thead>\n",
       "    <tr style=\"text-align: right;\">\n",
       "      <th></th>\n",
       "      <th>Year</th>\n",
       "      <th>Player</th>\n",
       "      <th>Salary</th>\n",
       "      <th>Position</th>\n",
       "      <th>Team</th>\n",
       "    </tr>\n",
       "  </thead>\n",
       "  <tbody>\n",
       "    <tr>\n",
       "      <th>17872</th>\n",
       "      <td>2010</td>\n",
       "      <td>Torii Hunter</td>\n",
       "      <td>18500000</td>\n",
       "      <td>Outfielder</td>\n",
       "      <td>Los Angeles Angels</td>\n",
       "    </tr>\n",
       "    <tr>\n",
       "      <th>17873</th>\n",
       "      <td>2010</td>\n",
       "      <td>Bobby Abreu</td>\n",
       "      <td>9000000</td>\n",
       "      <td>Outfielder</td>\n",
       "      <td>Los Angeles Angels</td>\n",
       "    </tr>\n",
       "    <tr>\n",
       "      <th>17874</th>\n",
       "      <td>2010</td>\n",
       "      <td>Brian Fuentes</td>\n",
       "      <td>9000000</td>\n",
       "      <td>Pitcher</td>\n",
       "      <td>Los Angeles Angels</td>\n",
       "    </tr>\n",
       "    <tr>\n",
       "      <th>17875</th>\n",
       "      <td>2010</td>\n",
       "      <td>Scott Kazmir</td>\n",
       "      <td>8000000</td>\n",
       "      <td>Pitcher</td>\n",
       "      <td>Los Angeles Angels</td>\n",
       "    </tr>\n",
       "    <tr>\n",
       "      <th>17876</th>\n",
       "      <td>2010</td>\n",
       "      <td>Joel Pineiro</td>\n",
       "      <td>8000000</td>\n",
       "      <td>Pitcher</td>\n",
       "      <td>Los Angeles Angels</td>\n",
       "    </tr>\n",
       "    <tr>\n",
       "      <th>...</th>\n",
       "      <td>...</td>\n",
       "      <td>...</td>\n",
       "      <td>...</td>\n",
       "      <td>...</td>\n",
       "      <td>...</td>\n",
       "    </tr>\n",
       "    <tr>\n",
       "      <th>18695</th>\n",
       "      <td>2010</td>\n",
       "      <td>Phil Hughes</td>\n",
       "      <td>447000</td>\n",
       "      <td>Pitcher</td>\n",
       "      <td>New York Yankees</td>\n",
       "    </tr>\n",
       "    <tr>\n",
       "      <th>18696</th>\n",
       "      <td>2010</td>\n",
       "      <td>Alfredo Aceves</td>\n",
       "      <td>435650</td>\n",
       "      <td>Pitcher</td>\n",
       "      <td>New York Yankees</td>\n",
       "    </tr>\n",
       "    <tr>\n",
       "      <th>18697</th>\n",
       "      <td>2010</td>\n",
       "      <td>David Robertson</td>\n",
       "      <td>426650</td>\n",
       "      <td>Pitcher</td>\n",
       "      <td>New York Yankees</td>\n",
       "    </tr>\n",
       "    <tr>\n",
       "      <th>18698</th>\n",
       "      <td>2010</td>\n",
       "      <td>Ramiro Pena</td>\n",
       "      <td>412100</td>\n",
       "      <td>Infielder</td>\n",
       "      <td>New York Yankees</td>\n",
       "    </tr>\n",
       "    <tr>\n",
       "      <th>18699</th>\n",
       "      <td>2010</td>\n",
       "      <td>Francisco Cervelli</td>\n",
       "      <td>410800</td>\n",
       "      <td>Catcher</td>\n",
       "      <td>New York Yankees</td>\n",
       "    </tr>\n",
       "  </tbody>\n",
       "</table>\n",
       "<p>828 rows × 5 columns</p>\n",
       "</div>"
      ],
      "text/plain": [
       "       Year              Player    Salary    Position                Team\n",
       "17872  2010        Torii Hunter  18500000  Outfielder  Los Angeles Angels\n",
       "17873  2010         Bobby Abreu   9000000  Outfielder  Los Angeles Angels\n",
       "17874  2010       Brian Fuentes   9000000     Pitcher  Los Angeles Angels\n",
       "17875  2010        Scott Kazmir   8000000     Pitcher  Los Angeles Angels\n",
       "17876  2010        Joel Pineiro   8000000     Pitcher  Los Angeles Angels\n",
       "...     ...                 ...       ...         ...                 ...\n",
       "18695  2010         Phil Hughes    447000     Pitcher    New York Yankees\n",
       "18696  2010      Alfredo Aceves    435650     Pitcher    New York Yankees\n",
       "18697  2010     David Robertson    426650     Pitcher    New York Yankees\n",
       "18698  2010         Ramiro Pena    412100   Infielder    New York Yankees\n",
       "18699  2010  Francisco Cervelli    410800     Catcher    New York Yankees\n",
       "\n",
       "[828 rows x 5 columns]"
      ]
     },
     "execution_count": 11,
     "metadata": {},
     "output_type": "execute_result"
    }
   ],
   "source": [
    "year_2010"
   ]
  },
  {
   "cell_type": "code",
   "execution_count": 14,
   "id": "fb597eb7",
   "metadata": {},
   "outputs": [
    {
     "data": {
      "text/html": [
       "<div>\n",
       "<style scoped>\n",
       "    .dataframe tbody tr th:only-of-type {\n",
       "        vertical-align: middle;\n",
       "    }\n",
       "\n",
       "    .dataframe tbody tr th {\n",
       "        vertical-align: top;\n",
       "    }\n",
       "\n",
       "    .dataframe thead th {\n",
       "        text-align: right;\n",
       "    }\n",
       "</style>\n",
       "<table border=\"1\" class=\"dataframe\">\n",
       "  <thead>\n",
       "    <tr style=\"text-align: right;\">\n",
       "      <th></th>\n",
       "      <th>Year</th>\n",
       "      <th>Player</th>\n",
       "      <th>Salary</th>\n",
       "      <th>Position</th>\n",
       "      <th>Team</th>\n",
       "    </tr>\n",
       "  </thead>\n",
       "  <tbody>\n",
       "    <tr>\n",
       "      <th>18679</th>\n",
       "      <td>2010</td>\n",
       "      <td>A.J. Burnett</td>\n",
       "      <td>16500000</td>\n",
       "      <td>Pitcher</td>\n",
       "      <td>New York Yankees</td>\n",
       "    </tr>\n",
       "    <tr>\n",
       "      <th>18655</th>\n",
       "      <td>2010</td>\n",
       "      <td>A.J. Pierzynski</td>\n",
       "      <td>6750000</td>\n",
       "      <td>Catcher</td>\n",
       "      <td>Chicago White Sox</td>\n",
       "    </tr>\n",
       "    <tr>\n",
       "      <th>18540</th>\n",
       "      <td>2010</td>\n",
       "      <td>Aaron Cook</td>\n",
       "      <td>9625000</td>\n",
       "      <td>Pitcher</td>\n",
       "      <td>Colorado Rockies</td>\n",
       "    </tr>\n",
       "    <tr>\n",
       "      <th>18484</th>\n",
       "      <td>2010</td>\n",
       "      <td>Aaron Harang</td>\n",
       "      <td>12500000</td>\n",
       "      <td>Pitcher</td>\n",
       "      <td>Cincinnati Reds</td>\n",
       "    </tr>\n",
       "    <tr>\n",
       "      <th>18108</th>\n",
       "      <td>2010</td>\n",
       "      <td>Aaron Heilman</td>\n",
       "      <td>2150000</td>\n",
       "      <td>Pitcher</td>\n",
       "      <td>Arizona Diamondbacks</td>\n",
       "    </tr>\n",
       "  </tbody>\n",
       "</table>\n",
       "</div>"
      ],
      "text/plain": [
       "       Year           Player    Salary Position                  Team\n",
       "18679  2010     A.J. Burnett  16500000  Pitcher      New York Yankees\n",
       "18655  2010  A.J. Pierzynski   6750000  Catcher     Chicago White Sox\n",
       "18540  2010       Aaron Cook   9625000  Pitcher      Colorado Rockies\n",
       "18484  2010     Aaron Harang  12500000  Pitcher       Cincinnati Reds\n",
       "18108  2010    Aaron Heilman   2150000  Pitcher  Arizona Diamondbacks"
      ]
     },
     "execution_count": 14,
     "metadata": {},
     "output_type": "execute_result"
    }
   ],
   "source": [
    "year_2010.sort_values(by='Player').head() #Sort records by Player in scending order"
   ]
  },
  {
   "cell_type": "code",
   "execution_count": 15,
   "id": "e70252d0",
   "metadata": {
    "scrolled": false
   },
   "outputs": [
    {
     "name": "stderr",
     "output_type": "stream",
     "text": [
      "/var/folders/wq/js2f53zx0_1fgy1r634g7bsw0000gn/T/ipykernel_5591/3398642244.py:1: SettingWithCopyWarning: \n",
      "A value is trying to be set on a copy of a slice from a DataFrame\n",
      "\n",
      "See the caveats in the documentation: https://pandas.pydata.org/pandas-docs/stable/user_guide/indexing.html#returning-a-view-versus-a-copy\n",
      "  year_2010.sort_index(axis=1,inplace=True) #Sort columns Lables\n"
     ]
    }
   ],
   "source": [
    "year_2010.sort_index(axis=1,inplace=True) #Sort columns Lables"
   ]
  },
  {
   "cell_type": "code",
   "execution_count": 16,
   "id": "46569a05",
   "metadata": {},
   "outputs": [
    {
     "data": {
      "text/html": [
       "<div>\n",
       "<style scoped>\n",
       "    .dataframe tbody tr th:only-of-type {\n",
       "        vertical-align: middle;\n",
       "    }\n",
       "\n",
       "    .dataframe tbody tr th {\n",
       "        vertical-align: top;\n",
       "    }\n",
       "\n",
       "    .dataframe thead th {\n",
       "        text-align: right;\n",
       "    }\n",
       "</style>\n",
       "<table border=\"1\" class=\"dataframe\">\n",
       "  <thead>\n",
       "    <tr style=\"text-align: right;\">\n",
       "      <th></th>\n",
       "      <th>Player</th>\n",
       "      <th>Position</th>\n",
       "      <th>Salary</th>\n",
       "      <th>Team</th>\n",
       "      <th>Year</th>\n",
       "    </tr>\n",
       "  </thead>\n",
       "  <tbody>\n",
       "    <tr>\n",
       "      <th>17872</th>\n",
       "      <td>Torii Hunter</td>\n",
       "      <td>Outfielder</td>\n",
       "      <td>18500000</td>\n",
       "      <td>Los Angeles Angels</td>\n",
       "      <td>2010</td>\n",
       "    </tr>\n",
       "    <tr>\n",
       "      <th>17873</th>\n",
       "      <td>Bobby Abreu</td>\n",
       "      <td>Outfielder</td>\n",
       "      <td>9000000</td>\n",
       "      <td>Los Angeles Angels</td>\n",
       "      <td>2010</td>\n",
       "    </tr>\n",
       "    <tr>\n",
       "      <th>17874</th>\n",
       "      <td>Brian Fuentes</td>\n",
       "      <td>Pitcher</td>\n",
       "      <td>9000000</td>\n",
       "      <td>Los Angeles Angels</td>\n",
       "      <td>2010</td>\n",
       "    </tr>\n",
       "    <tr>\n",
       "      <th>17875</th>\n",
       "      <td>Scott Kazmir</td>\n",
       "      <td>Pitcher</td>\n",
       "      <td>8000000</td>\n",
       "      <td>Los Angeles Angels</td>\n",
       "      <td>2010</td>\n",
       "    </tr>\n",
       "    <tr>\n",
       "      <th>17876</th>\n",
       "      <td>Joel Pineiro</td>\n",
       "      <td>Pitcher</td>\n",
       "      <td>8000000</td>\n",
       "      <td>Los Angeles Angels</td>\n",
       "      <td>2010</td>\n",
       "    </tr>\n",
       "  </tbody>\n",
       "</table>\n",
       "</div>"
      ],
      "text/plain": [
       "              Player    Position    Salary                Team  Year\n",
       "17872   Torii Hunter  Outfielder  18500000  Los Angeles Angels  2010\n",
       "17873    Bobby Abreu  Outfielder   9000000  Los Angeles Angels  2010\n",
       "17874  Brian Fuentes     Pitcher   9000000  Los Angeles Angels  2010\n",
       "17875   Scott Kazmir     Pitcher   8000000  Los Angeles Angels  2010\n",
       "17876   Joel Pineiro     Pitcher   8000000  Los Angeles Angels  2010"
      ]
     },
     "execution_count": 16,
     "metadata": {},
     "output_type": "execute_result"
    }
   ],
   "source": [
    "year_2010.head()"
   ]
  },
  {
   "cell_type": "code",
   "execution_count": 18,
   "id": "250960dc",
   "metadata": {},
   "outputs": [
    {
     "data": {
      "text/plain": [
       "18675    33000000\n",
       "18676    24285714\n",
       "18677    22600000\n",
       "18678    20625000\n",
       "18263    20144707\n",
       "Name: Salary, dtype: int64"
      ]
     },
     "execution_count": 18,
     "metadata": {},
     "output_type": "execute_result"
    }
   ],
   "source": [
    "year_2010.Salary.sort_values(ascending=False).head()"
   ]
  },
  {
   "cell_type": "code",
   "execution_count": 20,
   "id": "1a5b002f",
   "metadata": {},
   "outputs": [
    {
     "data": {
      "text/html": [
       "<div>\n",
       "<style scoped>\n",
       "    .dataframe tbody tr th:only-of-type {\n",
       "        vertical-align: middle;\n",
       "    }\n",
       "\n",
       "    .dataframe tbody tr th {\n",
       "        vertical-align: top;\n",
       "    }\n",
       "\n",
       "    .dataframe thead th {\n",
       "        text-align: right;\n",
       "    }\n",
       "</style>\n",
       "<table border=\"1\" class=\"dataframe\">\n",
       "  <thead>\n",
       "    <tr style=\"text-align: right;\">\n",
       "      <th></th>\n",
       "      <th>Player</th>\n",
       "      <th>Salary</th>\n",
       "    </tr>\n",
       "  </thead>\n",
       "  <tbody>\n",
       "    <tr>\n",
       "      <th>18675</th>\n",
       "      <td>Alex Rodriguez</td>\n",
       "      <td>33000000</td>\n",
       "    </tr>\n",
       "    <tr>\n",
       "      <th>18676</th>\n",
       "      <td>CC Sabathia</td>\n",
       "      <td>24285714</td>\n",
       "    </tr>\n",
       "    <tr>\n",
       "      <th>18677</th>\n",
       "      <td>Derek Jeter</td>\n",
       "      <td>22600000</td>\n",
       "    </tr>\n",
       "    <tr>\n",
       "      <th>18678</th>\n",
       "      <td>Mark Teixeira</td>\n",
       "      <td>20625000</td>\n",
       "    </tr>\n",
       "    <tr>\n",
       "      <th>18263</th>\n",
       "      <td>Johan Santana</td>\n",
       "      <td>20144707</td>\n",
       "    </tr>\n",
       "  </tbody>\n",
       "</table>\n",
       "</div>"
      ],
      "text/plain": [
       "               Player    Salary\n",
       "18675  Alex Rodriguez  33000000\n",
       "18676     CC Sabathia  24285714\n",
       "18677     Derek Jeter  22600000\n",
       "18678   Mark Teixeira  20625000\n",
       "18263   Johan Santana  20144707"
      ]
     },
     "execution_count": 20,
     "metadata": {},
     "output_type": "execute_result"
    }
   ],
   "source": [
    "year_2010.loc[year_2010.Salary.sort_values(ascending=False)\n",
    "              .index[:5],['Player','Salary']]"
   ]
  },
  {
   "cell_type": "code",
   "execution_count": null,
   "id": "949e2d35",
   "metadata": {},
   "outputs": [],
   "source": []
  }
 ],
 "metadata": {
  "kernelspec": {
   "display_name": "Python 3 (ipykernel)",
   "language": "python",
   "name": "python3"
  },
  "language_info": {
   "codemirror_mode": {
    "name": "ipython",
    "version": 3
   },
   "file_extension": ".py",
   "mimetype": "text/x-python",
   "name": "python",
   "nbconvert_exporter": "python",
   "pygments_lexer": "ipython3",
   "version": "3.11.3"
  }
 },
 "nbformat": 4,
 "nbformat_minor": 5
}
