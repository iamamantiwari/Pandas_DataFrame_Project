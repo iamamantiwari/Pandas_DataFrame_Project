{
 "cells": [
  {
   "cell_type": "code",
   "execution_count": 2,
   "id": "e21aa378",
   "metadata": {},
   "outputs": [],
   "source": [
    "import pandas as pd"
   ]
  },
  {
   "cell_type": "code",
   "execution_count": 3,
   "id": "dec93ca9",
   "metadata": {},
   "outputs": [],
   "source": [
    "data_frame1 = pd.DataFrame({'Fruits': ['Appple', 'Banana', 'Mango',\n",
    "                                    'Dragon Fruit', 'Musk melon', 'grapes'],\n",
    "                                'Sales in kg': [20, 30, 15, 10, 50, 40]})"
   ]
  },
  {
   "cell_type": "code",
   "execution_count": 4,
   "id": "31ca9105",
   "metadata": {},
   "outputs": [],
   "source": [
    "data_frame2 = pd.DataFrame({'Vegetables': ['tomato', 'Onion', 'ladies finger',\n",
    "                                            'beans', 'bedroot', 'carrot'],\n",
    "                                    'Sales in kg': [200, 310, 115, 110, 55, 45]})"
   ]
  },
  {
   "cell_type": "code",
   "execution_count": 5,
   "id": "f326824f",
   "metadata": {},
   "outputs": [],
   "source": [
    "data_frame3 = pd.DataFrame({'Baked Items': ['Cakes', 'biscuits', 'muffins',\n",
    "                                        'Rusk', 'puffs', 'cupcakes'],\n",
    "                                    'Sales in kg': [120, 130, 159, 310, 150, 140]})"
   ]
  },
  {
   "cell_type": "code",
   "execution_count": 6,
   "id": "1d7a1253",
   "metadata": {},
   "outputs": [
    {
     "name": "stdout",
     "output_type": "stream",
     "text": [
      "         Fruits  Sales in kg\n",
      "0        Appple           20\n",
      "1        Banana           30\n",
      "2         Mango           15\n",
      "3  Dragon Fruit           10\n",
      "4    Musk melon           50\n",
      "5        grapes           40\n",
      "      Vegetables  Sales in kg\n",
      "0         tomato          200\n",
      "1          Onion          310\n",
      "2  ladies finger          115\n",
      "3          beans          110\n",
      "4        bedroot           55\n",
      "5         carrot           45\n",
      "  Baked Items  Sales in kg\n",
      "0       Cakes          120\n",
      "1    biscuits          130\n",
      "2     muffins          159\n",
      "3        Rusk          310\n",
      "4       puffs          150\n",
      "5    cupcakes          140\n"
     ]
    }
   ],
   "source": [
    "print(data_frame1)\n",
    "print(data_frame2)\n",
    "print(data_frame3)"
   ]
  },
  {
   "cell_type": "code",
   "execution_count": 8,
   "id": "81cf75da",
   "metadata": {},
   "outputs": [],
   "source": [
    "with pd.ExcelWriter(\"excel_dataframe.xlsx\") as writer:\n",
    "\n",
    "\n",
    "    data_frame1.to_excel(writer, sheet_name=\"Fruits\", index=False)\n",
    "    data_frame2.to_excel(writer, sheet_name=\"Vegetables\", index=False)\n",
    "    data_frame3.to_excel(writer, sheet_name=\"Baked Items\", index=False)"
   ]
  },
  {
   "cell_type": "code",
   "execution_count": null,
   "id": "3af9864d",
   "metadata": {},
   "outputs": [],
   "source": []
  },
  {
   "cell_type": "code",
   "execution_count": null,
   "id": "d29ef900",
   "metadata": {},
   "outputs": [],
   "source": []
  },
  {
   "cell_type": "code",
   "execution_count": null,
   "id": "c8d122d1",
   "metadata": {},
   "outputs": [],
   "source": []
  },
  {
   "cell_type": "code",
   "execution_count": null,
   "id": "33cedf2f",
   "metadata": {},
   "outputs": [],
   "source": []
  },
  {
   "cell_type": "code",
   "execution_count": null,
   "id": "6329d7c1",
   "metadata": {},
   "outputs": [],
   "source": []
  },
  {
   "cell_type": "code",
   "execution_count": null,
   "id": "05260070",
   "metadata": {},
   "outputs": [],
   "source": []
  },
  {
   "cell_type": "code",
   "execution_count": null,
   "id": "571bbbf0",
   "metadata": {},
   "outputs": [],
   "source": []
  }
 ],
 "metadata": {
  "kernelspec": {
   "display_name": "Python 3 (ipykernel)",
   "language": "python",
   "name": "python3"
  },
  "language_info": {
   "codemirror_mode": {
    "name": "ipython",
    "version": 3
   },
   "file_extension": ".py",
   "mimetype": "text/x-python",
   "name": "python",
   "nbconvert_exporter": "python",
   "pygments_lexer": "ipython3",
   "version": "3.11.3"
  }
 },
 "nbformat": 4,
 "nbformat_minor": 5
}
